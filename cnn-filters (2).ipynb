{
 "cells": [
  {
   "cell_type": "code",
   "execution_count": 1,
   "id": "9cfd2eec",
   "metadata": {
    "execution": {
     "iopub.execute_input": "2023-11-22T18:18:34.837526Z",
     "iopub.status.busy": "2023-11-22T18:18:34.837136Z",
     "iopub.status.idle": "2023-11-22T18:18:48.285723Z",
     "shell.execute_reply": "2023-11-22T18:18:48.284842Z"
    },
    "papermill": {
     "duration": 13.457413,
     "end_time": "2023-11-22T18:18:48.288697",
     "exception": false,
     "start_time": "2023-11-22T18:18:34.831284",
     "status": "completed"
    },
    "tags": []
   },
   "outputs": [],
   "source": [
    "import tensorflow as tf\n",
    "from tensorflow import keras\n",
    "import numpy as np\n",
    "import matplotlib.pyplot as plt"
   ]
  },
  {
   "cell_type": "markdown",
   "id": "def4de80",
   "metadata": {
    "papermill": {
     "duration": 0.003673,
     "end_time": "2023-11-22T18:18:48.298633",
     "exception": false,
     "start_time": "2023-11-22T18:18:48.294960",
     "status": "completed"
    },
    "tags": []
   },
   "source": [
    "# download data"
   ]
  },
  {
   "cell_type": "code",
   "execution_count": 2,
   "id": "24a35449",
   "metadata": {
    "execution": {
     "iopub.execute_input": "2023-11-22T18:18:48.308815Z",
     "iopub.status.busy": "2023-11-22T18:18:48.307539Z",
     "iopub.status.idle": "2023-11-22T18:18:54.442674Z",
     "shell.execute_reply": "2023-11-22T18:18:54.441489Z"
    },
    "papermill": {
     "duration": 6.143056,
     "end_time": "2023-11-22T18:18:54.445522",
     "exception": false,
     "start_time": "2023-11-22T18:18:48.302466",
     "status": "completed"
    },
    "tags": []
   },
   "outputs": [
    {
     "name": "stdout",
     "output_type": "stream",
     "text": [
      "Downloading data from https://www.cs.toronto.edu/~kriz/cifar-10-python.tar.gz\n",
      "170498071/170498071 [==============================] - 3s 0us/step\n"
     ]
    }
   ],
   "source": [
    "(x_train, ytrain), (x_test, y_test) = keras.datasets.cifar10.load_data()"
   ]
  },
  {
   "cell_type": "code",
   "execution_count": null,
   "id": "e3c181e8",
   "metadata": {
    "papermill": {
     "duration": 0.007998,
     "end_time": "2023-11-22T18:18:54.461763",
     "exception": false,
     "start_time": "2023-11-22T18:18:54.453765",
     "status": "completed"
    },
    "tags": []
   },
   "outputs": [],
   "source": []
  },
  {
   "cell_type": "markdown",
   "id": "4cd70a7d",
   "metadata": {
    "papermill": {
     "duration": 0.008141,
     "end_time": "2023-11-22T18:18:54.477811",
     "exception": false,
     "start_time": "2023-11-22T18:18:54.469670",
     "status": "completed"
    },
    "tags": []
   },
   "source": [
    "# 10 images for testing"
   ]
  },
  {
   "cell_type": "code",
   "execution_count": 3,
   "id": "0bd406f7",
   "metadata": {
    "execution": {
     "iopub.execute_input": "2023-11-22T18:18:54.496221Z",
     "iopub.status.busy": "2023-11-22T18:18:54.495559Z",
     "iopub.status.idle": "2023-11-22T18:18:54.500660Z",
     "shell.execute_reply": "2023-11-22T18:18:54.499826Z"
    },
    "papermill": {
     "duration": 0.016964,
     "end_time": "2023-11-22T18:18:54.502845",
     "exception": false,
     "start_time": "2023-11-22T18:18:54.485881",
     "status": "completed"
    },
    "tags": []
   },
   "outputs": [],
   "source": [
    "images_ex = x_train[0:10, :, :, :,] / 255.0"
   ]
  },
  {
   "cell_type": "code",
   "execution_count": 4,
   "id": "7529cd42",
   "metadata": {
    "execution": {
     "iopub.execute_input": "2023-11-22T18:18:54.521265Z",
     "iopub.status.busy": "2023-11-22T18:18:54.520845Z",
     "iopub.status.idle": "2023-11-22T18:18:54.525716Z",
     "shell.execute_reply": "2023-11-22T18:18:54.524805Z"
    },
    "papermill": {
     "duration": 0.017193,
     "end_time": "2023-11-22T18:18:54.528044",
     "exception": false,
     "start_time": "2023-11-22T18:18:54.510851",
     "status": "completed"
    },
    "tags": []
   },
   "outputs": [],
   "source": [
    "filters = np.zeros((3,3, 3, 2))\n"
   ]
  },
  {
   "cell_type": "code",
   "execution_count": 5,
   "id": "16c6429e",
   "metadata": {
    "execution": {
     "iopub.execute_input": "2023-11-22T18:18:54.546330Z",
     "iopub.status.busy": "2023-11-22T18:18:54.545898Z",
     "iopub.status.idle": "2023-11-22T18:18:54.551603Z",
     "shell.execute_reply": "2023-11-22T18:18:54.550404Z"
    },
    "papermill": {
     "duration": 0.017258,
     "end_time": "2023-11-22T18:18:54.553671",
     "exception": false,
     "start_time": "2023-11-22T18:18:54.536413",
     "status": "completed"
    },
    "tags": []
   },
   "outputs": [],
   "source": [
    "\n",
    "for i,l in enumerate(filters[:, : , : , 0]):\n",
    "    l[i]=1\n",
    "    \n",
    "f = 2\n",
    "for i,l in enumerate(filters[:, : , : , 1]):\n",
    "    l[f]=1\n",
    "    f -= 1\n",
    "    "
   ]
  },
  {
   "cell_type": "code",
   "execution_count": null,
   "id": "d1cfc128",
   "metadata": {
    "execution": {
     "iopub.execute_input": "2023-11-22T14:18:15.021024Z",
     "iopub.status.busy": "2023-11-22T14:18:15.020671Z",
     "iopub.status.idle": "2023-11-22T14:18:15.265432Z",
     "shell.execute_reply": "2023-11-22T14:18:15.264336Z",
     "shell.execute_reply.started": "2023-11-22T14:18:15.020995Z"
    },
    "papermill": {
     "duration": null,
     "end_time": null,
     "exception": null,
     "start_time": null,
     "status": "pending"
    },
    "tags": []
   },
   "outputs": [],
   "source": [
    "plt.imshow(filters[:, : , : , 1])"
   ]
  },
  {
   "cell_type": "code",
   "execution_count": null,
   "id": "7a069d72",
   "metadata": {
    "execution": {
     "iopub.execute_input": "2023-11-22T14:18:15.268263Z",
     "iopub.status.busy": "2023-11-22T14:18:15.267007Z",
     "iopub.status.idle": "2023-11-22T14:18:15.502844Z",
     "shell.execute_reply": "2023-11-22T14:18:15.501640Z",
     "shell.execute_reply.started": "2023-11-22T14:18:15.268201Z"
    },
    "papermill": {
     "duration": null,
     "end_time": null,
     "exception": null,
     "start_time": null,
     "status": "pending"
    },
    "tags": []
   },
   "outputs": [],
   "source": [
    "plt.imshow(filters[:, : , : , 0])"
   ]
  },
  {
   "cell_type": "code",
   "execution_count": null,
   "id": "1b685d32",
   "metadata": {
    "execution": {
     "iopub.execute_input": "2023-11-22T14:18:15.505878Z",
     "iopub.status.busy": "2023-11-22T14:18:15.504451Z",
     "iopub.status.idle": "2023-11-22T14:18:15.515513Z",
     "shell.execute_reply": "2023-11-22T14:18:15.513979Z",
     "shell.execute_reply.started": "2023-11-22T14:18:15.505819Z"
    },
    "papermill": {
     "duration": null,
     "end_time": null,
     "exception": null,
     "start_time": null,
     "status": "pending"
    },
    "tags": []
   },
   "outputs": [],
   "source": [
    "images_filter = tf.nn.conv2d(images_ex, filters, strides=1, padding='SAME')"
   ]
  },
  {
   "cell_type": "code",
   "execution_count": null,
   "id": "a9a5fd7a",
   "metadata": {
    "execution": {
     "iopub.execute_input": "2023-11-22T14:18:15.517924Z",
     "iopub.status.busy": "2023-11-22T14:18:15.517547Z",
     "iopub.status.idle": "2023-11-22T14:18:17.150776Z",
     "shell.execute_reply": "2023-11-22T14:18:17.149348Z",
     "shell.execute_reply.started": "2023-11-22T14:18:15.517894Z"
    },
    "papermill": {
     "duration": null,
     "end_time": null,
     "exception": null,
     "start_time": null,
     "status": "pending"
    },
    "tags": []
   },
   "outputs": [],
   "source": [
    "#قبل از اعمال فیلتر\n",
    "\n",
    "_, axs = plt.subplots(2, 5, figsize=(20, 20))\n",
    "axs = axs.flatten()\n",
    "for img, ax in zip(images_ex, axs):\n",
    "    ax.imshow(img)\n",
    "plt.show()"
   ]
  },
  {
   "cell_type": "code",
   "execution_count": null,
   "id": "ceae152f",
   "metadata": {
    "execution": {
     "iopub.execute_input": "2023-11-22T14:18:17.153229Z",
     "iopub.status.busy": "2023-11-22T14:18:17.152698Z",
     "iopub.status.idle": "2023-11-22T14:18:18.876836Z",
     "shell.execute_reply": "2023-11-22T14:18:18.875368Z",
     "shell.execute_reply.started": "2023-11-22T14:18:17.153184Z"
    },
    "papermill": {
     "duration": null,
     "end_time": null,
     "exception": null,
     "start_time": null,
     "status": "pending"
    },
    "tags": []
   },
   "outputs": [],
   "source": [
    "#بعد از اعمال فیلتر اول\n",
    "\n",
    "_, axs = plt.subplots(2, 5, figsize=(20, 20))\n",
    "axs = axs.flatten()\n",
    "for img, ax in zip(images_filter[:, : , : , 0], axs):\n",
    "    ax.imshow(img)\n",
    "plt.show()"
   ]
  },
  {
   "cell_type": "code",
   "execution_count": null,
   "id": "73afecf8",
   "metadata": {
    "execution": {
     "iopub.execute_input": "2023-11-22T14:18:18.878742Z",
     "iopub.status.busy": "2023-11-22T14:18:18.878408Z",
     "iopub.status.idle": "2023-11-22T14:18:20.550070Z",
     "shell.execute_reply": "2023-11-22T14:18:20.548961Z",
     "shell.execute_reply.started": "2023-11-22T14:18:18.878713Z"
    },
    "papermill": {
     "duration": null,
     "end_time": null,
     "exception": null,
     "start_time": null,
     "status": "pending"
    },
    "tags": []
   },
   "outputs": [],
   "source": [
    "#بعد از اعمال فیلتر اول\n",
    "\n",
    "_, axs = plt.subplots(2, 5, figsize=(20, 20))\n",
    "axs = axs.flatten()\n",
    "for img, ax in zip(images_filter[:, : , : , 1], axs):\n",
    "    ax.imshow(img)\n",
    "plt.show()"
   ]
  }
 ],
 "metadata": {
  "kaggle": {
   "accelerator": "none",
   "dataSources": [],
   "dockerImageVersionId": 30587,
   "isGpuEnabled": false,
   "isInternetEnabled": true,
   "language": "python",
   "sourceType": "notebook"
  },
  "kernelspec": {
   "display_name": "Python 3",
   "language": "python",
   "name": "python3"
  },
  "language_info": {
   "codemirror_mode": {
    "name": "ipython",
    "version": 3
   },
   "file_extension": ".py",
   "mimetype": "text/x-python",
   "name": "python",
   "nbconvert_exporter": "python",
   "pygments_lexer": "ipython3",
   "version": "3.10.12"
  },
  "papermill": {
   "default_parameters": {},
   "duration": 24.89853,
   "end_time": "2023-11-22T18:18:56.703604",
   "environment_variables": {},
   "exception": true,
   "input_path": "__notebook__.ipynb",
   "output_path": "__notebook__.ipynb",
   "parameters": {},
   "start_time": "2023-11-22T18:18:31.805074",
   "version": "2.4.0"
  }
 },
 "nbformat": 4,
 "nbformat_minor": 5
}
